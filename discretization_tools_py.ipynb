{
  "nbformat": 4,
  "nbformat_minor": 0,
  "metadata": {
    "colab": {
      "provenance": [],
      "toc_visible": true,
      "authorship_tag": "ABX9TyMWJhDeysNehFTHME52dxi4",
      "include_colab_link": true
    },
    "kernelspec": {
      "name": "python3",
      "display_name": "Python 3"
    },
    "language_info": {
      "name": "python"
    }
  },
  "cells": [
    {
      "cell_type": "markdown",
      "metadata": {
        "id": "view-in-github",
        "colab_type": "text"
      },
      "source": [
        "<a href=\"https://colab.research.google.com/github/LIONPANJSHIR/Machie-learning-avec-r/blob/main/discretization_tools_py.ipynb\" target=\"_parent\"><img src=\"https://colab.research.google.com/assets/colab-badge.svg\" alt=\"Open In Colab\"/></a>"
      ]
    },
    {
      "cell_type": "code",
      "execution_count": 3,
      "metadata": {
        "colab": {
          "base_uri": "https://localhost:8080/"
        },
        "id": "0zq8JKZrY-XP",
        "outputId": "d7ea8072-fb38-4333-c2f9-3316ef494a4a"
      },
      "outputs": [
        {
          "output_type": "stream",
          "name": "stdout",
          "text": [
            "Collecting mapclassify\n",
            "  Downloading mapclassify-2.9.0-py3-none-any.whl.metadata (3.1 kB)\n",
            "Requirement already satisfied: networkx>=3.2 in /usr/local/lib/python3.11/dist-packages (from mapclassify) (3.5)\n",
            "Requirement already satisfied: numpy>=1.26 in /usr/local/lib/python3.11/dist-packages (from mapclassify) (2.0.2)\n",
            "Requirement already satisfied: pandas>=2.1 in /usr/local/lib/python3.11/dist-packages (from mapclassify) (2.2.2)\n",
            "Requirement already satisfied: scikit-learn>=1.4 in /usr/local/lib/python3.11/dist-packages (from mapclassify) (1.6.1)\n",
            "Requirement already satisfied: scipy>=1.12 in /usr/local/lib/python3.11/dist-packages (from mapclassify) (1.15.3)\n",
            "Requirement already satisfied: python-dateutil>=2.8.2 in /usr/local/lib/python3.11/dist-packages (from pandas>=2.1->mapclassify) (2.9.0.post0)\n",
            "Requirement already satisfied: pytz>=2020.1 in /usr/local/lib/python3.11/dist-packages (from pandas>=2.1->mapclassify) (2025.2)\n",
            "Requirement already satisfied: tzdata>=2022.7 in /usr/local/lib/python3.11/dist-packages (from pandas>=2.1->mapclassify) (2025.2)\n",
            "Requirement already satisfied: joblib>=1.2.0 in /usr/local/lib/python3.11/dist-packages (from scikit-learn>=1.4->mapclassify) (1.5.1)\n",
            "Requirement already satisfied: threadpoolctl>=3.1.0 in /usr/local/lib/python3.11/dist-packages (from scikit-learn>=1.4->mapclassify) (3.6.0)\n",
            "Requirement already satisfied: six>=1.5 in /usr/local/lib/python3.11/dist-packages (from python-dateutil>=2.8.2->pandas>=2.1->mapclassify) (1.17.0)\n",
            "Downloading mapclassify-2.9.0-py3-none-any.whl (286 kB)\n",
            "\u001b[2K   \u001b[90m━━━━━━━━━━━━━━━━━━━━━━━━━━━━━━━━━━━━━━━━\u001b[0m \u001b[32m286.7/286.7 kB\u001b[0m \u001b[31m4.3 MB/s\u001b[0m eta \u001b[36m0:00:00\u001b[0m\n",
            "\u001b[?25hInstalling collected packages: mapclassify\n",
            "Successfully installed mapclassify-2.9.0\n"
          ]
        }
      ],
      "source": [
        "# Crée ce fichier dans ton projet Google Drive ou local\n",
        "# contenu de discretization_tools.py :\n",
        "# !pip install mapclassify\n",
        "\n",
        "from sklearn.preprocessing import KBinsDiscretizer\n",
        "from sklearn.tree import DecisionTreeClassifier\n",
        "from sklearn.linear_model import LogisticRegression\n",
        "from sklearn.metrics import roc_auc_score\n",
        "from sklearn.model_selection import train_test_split\n",
        "import mapclassify\n",
        "import pandas as pd\n",
        "\n",
        "def compare_discretisation_auc_all_vars(df, target, numeric_vars=None, bins_range=range(2, 6)):\n",
        "    results = []\n",
        "    best_configs = []\n",
        "\n",
        "    if numeric_vars is None:\n",
        "        numeric_vars = df.select_dtypes(include='number').drop(columns=[target]).columns.tolist()\n",
        "\n",
        "    for var in numeric_vars:\n",
        "        print(f\"\\n=== Variable : {var} ===\")\n",
        "        all_auc = []\n",
        "\n",
        "        for q in bins_range:\n",
        "            try:\n",
        "                df[f\"{var}_qcut\"] = pd.qcut(df[var], q, duplicates='drop')\n",
        "                kbd = KBinsDiscretizer(n_bins=q, encode='ordinal', strategy='kmeans')\n",
        "                df[f\"{var}_kmeans\"] = kbd.fit_transform(df[[var]])\n",
        "                tree = DecisionTreeClassifier(max_leaf_nodes=q, random_state=42)\n",
        "                tree.fit(df[[var]], df[target])\n",
        "                df[f\"{var}_tree\"] = tree.apply(df[[var]])\n",
        "                jenks = mapclassify.NaturalBreaks(df[var], k=q)\n",
        "                df[f\"{var}_jenks\"] = jenks.yb\n",
        "\n",
        "                cols = [var, f\"{var}_qcut\", f\"{var}_kmeans\", f\"{var}_tree\", f\"{var}_jenks\"]\n",
        "\n",
        "                for col in cols:\n",
        "                    method = col.replace(f\"{var}_\", \"\") if col != var else \"brute\"\n",
        "                    X = df[[col]]\n",
        "                    if method != \"brute\":\n",
        "                        X = pd.get_dummies(X, drop_first=True)\n",
        "                    y = df[target]\n",
        "\n",
        "                    X_train, X_test, y_train, y_test = train_test_split(X, y, stratify=y, test_size=0.3, random_state=42)\n",
        "                    model = LogisticRegression(max_iter=1000)\n",
        "                    model.fit(X_train, y_train)\n",
        "                    y_pred = model.predict_proba(X_test)[:, 1]\n",
        "                    auc = roc_auc_score(y_test, y_pred)\n",
        "\n",
        "                    results.append({\"var\": var, \"q\": q, \"method\": method, \"AUC\": auc})\n",
        "                    all_auc.append((method, q, auc))\n",
        "                    print(f\"[{var}] q={q if method != 'brute' else 'aucun'} | {method:<6} → AUC: {auc:.4f}\")\n",
        "            except Exception as e:\n",
        "                print(f\"⚠️ Erreur pour {var} avec q={q}: {e}\")\n",
        "                continue\n",
        "\n",
        "        if all_auc:\n",
        "            best_method, best_q, best_auc = max(all_auc, key=lambda x: x[2])\n",
        "            best_configs.append({\n",
        "                \"var\": var,\n",
        "                \"best_method\": best_method,\n",
        "                \"best_q\": \"aucun\" if best_method == \"brute\" else best_q,\n",
        "                \"best_auc\": best_auc\n",
        "            })\n",
        "\n",
        "    return pd.DataFrame(results), pd.DataFrame(best_configs)\n"
      ]
    },
    {
      "cell_type": "code",
      "source": [],
      "metadata": {
        "id": "ntdOBUlzaIdv"
      },
      "execution_count": null,
      "outputs": []
    }
  ]
}